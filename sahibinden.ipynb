{
 "cells": [
  {
   "cell_type": "code",
   "execution_count": 190,
   "id": "ac26a9e9",
   "metadata": {},
   "outputs": [],
   "source": [
    "from bs4 import BeautifulSoup\n",
    "import requests\n",
    "from datetime import datetime"
   ]
  },
  {
   "cell_type": "code",
   "execution_count": 191,
   "id": "2b63b29f",
   "metadata": {},
   "outputs": [],
   "source": [
    "##https://www.sahibinden.com/\n",
    "##audi-a3-a3-hatchback-1.6-attraction/istanbul/benzin,benzin-lpg/manuel/ikinci-el?a5_max=2023&a4_min=1&price_min=1 a3=33611&a4_max=100000&a5_min=2000&price_max=10000000"
   ]
  },
  {
   "cell_type": "code",
   "execution_count": 192,
   "id": "81710057",
   "metadata": {},
   "outputs": [],
   "source": [
    "ilanlar=[]"
   ]
  },
  {
   "cell_type": "code",
   "execution_count": 193,
   "id": "f7b7f427",
   "metadata": {},
   "outputs": [],
   "source": [
    "##ROOT+MODEL(space -> -)+/il+/vites+?QUERY"
   ]
  },
  {
   "cell_type": "code",
   "execution_count": 194,
   "id": "957c22d0",
   "metadata": {},
   "outputs": [],
   "source": [
    "dict = {\n",
    "## https://www.sahibinden.com/audi-a3-a5_min=2&a5_max=5\n",
    "'marka': 'audi',\n",
    "'model':'a3 a3 hatchback',\n",
    "'il': 'istanbul',\n",
    "'vites':'manuel',\n",
    "'yil':{\n",
    "    'max':'2023',\n",
    "    'min': '2000'\n",
    "},\n",
    "'price':{\n",
    "    'min':'1',\n",
    "    'max':'10000000'\n",
    "}\n",
    "\n",
    "}"
   ]
  },
  {
   "cell_type": "code",
   "execution_count": 195,
   "id": "ef98611c",
   "metadata": {},
   "outputs": [],
   "source": [
    "#SORU https://www.sahibinden.com/audi-a3/manuel manuelin türü"
   ]
  },
  {
   "cell_type": "code",
   "execution_count": 196,
   "id": "05309d2d",
   "metadata": {},
   "outputs": [
    {
     "data": {
      "text/plain": [
       "'https://www.sahibinden.com/audi-a3-a3-hatchback/istanbul/manuel?a5min=2000&a5max=2023price_min=1&price_max=10000000'"
      ]
     },
     "execution_count": 196,
     "metadata": {},
     "output_type": "execute_result"
    }
   ],
   "source": [
    "root = 'https://www.sahibinden.com/'\n",
    "modelURL = (root + dict['marka'] + '-' + dict['model']).replace(' ','-')\n",
    "yilquery = 'a5min=' + dict['yil']['min'] + '&' +  'a5max=' + dict['yil']['max']\n",
    "pricequery= 'price_min=' + dict['price']['min'] + '&' + 'price_max=' + dict['price']['max']\n",
    "queries = '?'+yilquery+pricequery\n",
    "pages = modelURL + '/'+dict['il']+'/'+dict['vites']\n",
    "URL = pages + queries\n",
    "URL"
   ]
  },
  {
   "cell_type": "code",
   "execution_count": 197,
   "id": "8a6dc4af",
   "metadata": {},
   "outputs": [
    {
     "name": "stdout",
     "output_type": "stream",
     "text": [
      "response: 200\n"
     ]
    }
   ],
   "source": [
    "\n",
    "r = requests.get(URL, headers=headers)\n",
    "soup = BeautifulSoup(r.text, 'html.parser')\n",
    "print('response: ' + str(r.status_code))"
   ]
  },
  {
   "cell_type": "code",
   "execution_count": 198,
   "id": "627b4cb5",
   "metadata": {},
   "outputs": [
    {
     "name": "stdout",
     "output_type": "stream",
     "text": [
      "3 43\n"
     ]
    }
   ],
   "source": [
    "ilan_sayisi = soup.find('div',{'class':'result-text-sub-group'}).find('span').get_text().split()[0]\n",
    "\n",
    "sayfa_sayisi = int(ilan_sayisi)/20\n",
    "\n",
    "if int(ilan_sayisi)%20 != 0:\n",
    "    sayfa_sayisi = (int(ilan_sayisi)//20)+1\n",
    "else:\n",
    "    sayfa_sayisi= int(ilan_sayisi)//20\n",
    "\n",
    "print(sayfa_sayisi, ilan_sayisi)"
   ]
  },
  {
   "cell_type": "code",
   "execution_count": 199,
   "id": "f2663ffe",
   "metadata": {},
   "outputs": [
    {
     "name": "stdout",
     "output_type": "stream",
     "text": [
      "200 https://www.sahibinden.com/audi-a3-a3-hatchback/istanbul/manuel?a5min=2000&a5max=2023price_min=1&price_max=10000000&pagingOffset=0\n",
      "200 https://www.sahibinden.com/audi-a3-a3-hatchback/istanbul/manuel?a5min=2000&a5max=2023price_min=1&price_max=10000000&pagingOffset=20\n",
      "200 https://www.sahibinden.com/audi-a3-a3-hatchback/istanbul/manuel?a5min=2000&a5max=2023price_min=1&price_max=10000000&pagingOffset=40\n"
     ]
    }
   ],
   "source": [
    "headers = {\n",
    "        'User-Agent':\n",
    "        'Mozilla/5.0 (Macintosh; Intel Mac OS X 10_10_1)' +\n",
    "        'AppleWebKit/537.36 (KHTML, like Gecko)' +\n",
    "        'Chrome/39.0.2171.95 Safari/537.36',\n",
    "        'Upgrade-Insecure-Requests': '1'}\n",
    "\n",
    "prices = []\n",
    "locs = []\n",
    "att = []\n",
    "models = []\n",
    "a=[]\n",
    "for offset in range(0, sayfa_sayisi*20, 20):\n",
    "  try:\n",
    "    offset = '&pagingOffset='+str(offset)\n",
    "    URL_ = URL + offset\n",
    "    # start scraping the page\n",
    "    r = requests.get(URL_, headers=headers)\n",
    "    print(r.status_code, URL_)\n",
    "    soup = BeautifulSoup(r.text, 'html.parser')\n",
    "    for fiyat in soup.find_all('div', {'class':'classified-price-container'}):\n",
    "        prices.append(fiyat.get_text(separator=\" \").replace('\\n','').replace('\\r', '').replace('\\t', '').strip())\n",
    "        \n",
    "    for konum in soup.find_all('td', {'class':'searchResultsLocationValue'}):\n",
    "        locs.append(konum.get_text(separator=\" \").replace('\\n','').replace('\\r', '').replace('\\t', '').strip())\n",
    "        \n",
    "    for model in soup.find_all('td', {'class':'searchResultsTagAttributeValue'}):\n",
    "        models.append(model.get_text(separator=\" \").replace('\\n','').replace('\\r', '').replace('\\t', '').strip())\n",
    "        \n",
    "    for att in soup.find_all('td', {'class':'searchResultsAttributeValue'}):\n",
    "        a.append(att.get_text(separator=\" \").replace('\\n','').replace('\\r', '').replace('\\t', '').strip())\n",
    "  except Exception as e:\n",
    "    print(\"Exception occured: \" + str(e))\n",
    "    continue"
   ]
  },
  {
   "cell_type": "code",
   "execution_count": 200,
   "id": "10f309a0",
   "metadata": {},
   "outputs": [],
   "source": [
    "att = [a[i: i+3] for i in range(0, len(a), 3)]"
   ]
  },
  {
   "cell_type": "code",
   "execution_count": 201,
   "id": "dc82f958",
   "metadata": {},
   "outputs": [],
   "source": [
    "zipped = zip(models,prices,locs,att)"
   ]
  },
  {
   "cell_type": "code",
   "execution_count": 202,
   "id": "10819f25",
   "metadata": {},
   "outputs": [
    {
     "name": "stdout",
     "output_type": "stream",
     "text": [
      "('A3 Hatchback 1.6', '265.000 TL', 'Pendik Çarşı', ['2004', '300.000', 'Kırmızı'])\n",
      "('A3 Hatchback 1.6', '270.000 TL', 'Tuzla Tersaneler', ['2004', '235.000', 'Kırmızı'])\n",
      "('A3 Hatchback 1.6', '295.000 TL', 'Bağcılar', ['2006', '320.000', 'Siyah'])\n",
      "('A3 Hatchback 1.6 FSI', '305.000 TL', 'Güngören', ['2007', '202.000', 'Siyah'])\n",
      "('A3 Hatchback 1.6', '230.000 TL', 'Büyükçekmece', ['2004', '333.500', 'Kırmızı'])\n",
      "('A3 Hatchback 1.4 TFSI', '289.900 TL', 'Beylikdüzü Kavaklı', ['2009', '270.000', 'Gri'])\n",
      "('A3 Hatchback 1.6', '210.000 TL', 'Sultangazi Cebeci', ['2001', '266.000', 'Siyah'])\n",
      "('A3 Hatchback 1.4 TFSI', '457.000 TL', 'Kağıthane', ['2008', '86.000', 'Siyah'])\n",
      "('A3 Hatchback 1.6', '245.000 TL', 'Esenyurt', ['2004', '373.000', 'Gri'])\n",
      "('A3 Hatchback 1.6', '305.000 TL', 'Kartal Yakacık', ['2006', '271.000', 'Siyah'])\n",
      "('A3 Hatchback 1.6', '284.000 TL', 'Sultanbeyli Turgutreis', ['2004', '195.000', 'Mavi'])\n",
      "('A3 Hatchback 1.6 FSI', '285.000 TL', 'Ataşehir Barbaros', ['2006', '266.500', 'Beyaz'])\n",
      "('A3 Hatchback 1.6 FSI', '245.000 TL', 'Üsküdar Bulgurlu', ['2005', '360.000', 'Gri'])\n",
      "('A3 Hatchback 1.6', '247.750 TL', 'Pendik Çarşı', ['2006', '271.000', 'Siyah'])\n",
      "('A3 Hatchback 1.6', '249.750 TL', 'Kadıköy Sahrayıcedit', ['2005', '390.000', 'Füme'])\n",
      "('A3 Hatchback 1.8', '235.000 TL', 'Eyüpsultan Çırçır', ['1998', '335.000', 'Mavi'])\n",
      "('A3 Hatchback 1.6', '348.000 TL', 'Pendik Çamçeşme', ['2005', '186.369', 'Gümüş Gri'])\n",
      "('A3 Hatchback 1.6 FSI', '387.250 TL', 'Esenyurt', ['2007', '106.215', 'Siyah'])\n",
      "('A3 Hatchback 1.4 TFSI', '398.000 TL', 'Maltepe Zümrütevler', ['2010', '233.000', 'Siyah'])\n",
      "('A3 Hatchback 1.9 TDI', '247.750 TL', 'Bağcılar', ['2006', '293.000', 'Kırmızı'])\n",
      "('A3 Hatchback 1.9 TDI', '230.000 TL', 'Kağıthane Seyrantepe', ['1996', '356.000', 'Sarı'])\n",
      "('A3 Hatchback 1.6', '330.000 TL', 'Arnavutköy Hadımköy(Boyalık)', ['2004', '220.000', 'Mavi'])\n",
      "('A3 Hatchback 1.6', '359.000 TL', 'Sultangazi Merkez', ['2009', '140.000', 'Siyah'])\n",
      "('A3 Hatchback 1.4 TFSI', '420.000 TL', 'Sarıyer İstinye', ['2008', '165.000', 'Siyah'])\n",
      "('A3 Hatchback 1.4 TFSI', '405.000 TL', 'Bahçelievler Merkez', ['2009', '225.000', 'Gri'])\n",
      "('A3 Hatchback 1.6 FSI', '295.000 TL', 'Ümraniye Şerifali', ['2006', '220.000', 'Siyah'])\n",
      "('A3 Hatchback 2.0 TDI', '420.000 TL', 'Bakırköy Ataköy', ['2009', '253.000', 'Gri'])\n",
      "('A3 Hatchback 1.6', '403.000 TL', 'Kartal Orhantepe', ['2011', '195.000', 'Beyaz'])\n",
      "('A3 Hatchback 1.6', '205.000 TL', 'Üsküdar Bağlarbaşı', ['2001', '245.000', 'Kırmızı'])\n",
      "('A3 Hatchback 1.4 TFSI', '345.000 TL', 'Avcılar Ambarlı', ['2009', '160.000', 'Siyah'])\n",
      "('A3 Hatchback 1.4 TFSI', '365.000 TL', 'Beşiktaş Levazım', ['2008', '207.500', 'Siyah'])\n",
      "('A3 Hatchback 1.6 FSI', '299.999 TL', 'Sultangazi Zübeydehanım', ['2006', '180.000', 'Kırmızı'])\n",
      "('A3 Hatchback 1.6', '269.000 TL', 'Küçükçekmece Cennet', ['2004', '287.000', 'Siyah'])\n",
      "('A3 Hatchback 1.6 FSI', '265.000 TL', 'Büyükçekmece', ['2006', '222.000', 'Siyah'])\n",
      "('A3 Hatchback 2.0 TDI', '430.000 TL', 'Çekmeköy Taşdelen', ['2009', '253.000', 'Gri'])\n",
      "('A3 Hatchback 1.4 TFSI', '415.000 TL', 'Ataşehir İçerenköy', ['2010', '136.000', 'Gri'])\n",
      "('A3 Hatchback 1.6', '460.000 TL', 'Eyüpsultan Rami', ['2011', '78.000', 'Siyah'])\n",
      "('A3 Hatchback 1.6 FSI', '249.000 TL', 'Beykoz Anadoluhisarı', ['2006', '340.000', 'Siyah'])\n",
      "('A3 Hatchback 1.4 TFSI', '695.000 TL', 'Bakırköy Ataköy', ['2012', '91.000', 'Beyaz'])\n",
      "('A3 Hatchback 1.4 TFSI', '318.000 TL', 'Tuzla Tersaneler', ['2008', '299.999', 'Beyaz'])\n",
      "('A3 Hatchback 1.6 FSI', '345.000 TL', 'Beylikdüzü Kavaklı', ['2006', '233.000', 'Kırmızı'])\n",
      "('A3 Hatchback 1.6', '285.000 TL', 'Zeytinburnu Maltepe', ['2004', '265.000', 'Kırmızı'])\n",
      "('A3 Hatchback 1.8 T', '360.000 TL', 'Beyoğlu Halıcıoğlu', ['2001', '320.000', 'Gri'])\n",
      "('A3 Hatchback 1.9 TDI', '255.500 TL', 'Küçükçekmece Sefaköy', ['2001', '212.000', 'Gri'])\n",
      "('A3 Hatchback 1.4 TFSI', '395.000 TL', 'Ümraniye Merkez', ['2008', '165.000', 'Siyah'])\n"
     ]
    }
   ],
   "source": [
    "for i in zipped:\n",
    "    print(i)"
   ]
  },
  {
   "cell_type": "code",
   "execution_count": null,
   "id": "bd51ecff",
   "metadata": {},
   "outputs": [],
   "source": []
  }
 ],
 "metadata": {
  "kernelspec": {
   "display_name": "Python 3 (ipykernel)",
   "language": "python",
   "name": "python3"
  },
  "language_info": {
   "codemirror_mode": {
    "name": "ipython",
    "version": 3
   },
   "file_extension": ".py",
   "mimetype": "text/x-python",
   "name": "python",
   "nbconvert_exporter": "python",
   "pygments_lexer": "ipython3",
   "version": "3.10.7"
  }
 },
 "nbformat": 4,
 "nbformat_minor": 5
}
