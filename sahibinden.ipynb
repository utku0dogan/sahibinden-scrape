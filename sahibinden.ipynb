{
 "cells": [
  {
   "cell_type": "code",
   "execution_count": 141,
   "id": "ac26a9e9",
   "metadata": {},
   "outputs": [],
   "source": [
    "from bs4 import BeautifulSoup\n",
    "import requests\n",
    "from datetime import datetime"
   ]
  },
  {
   "cell_type": "code",
   "execution_count": 142,
   "id": "957c22d0",
   "metadata": {},
   "outputs": [],
   "source": [
    "dict = {\n",
    "'marka': 'audi',\n",
    "'model':'a3 a3 hatchback',\n",
    "'il': 'istanbul',\n",
    "'vites':'manuel',\n",
    "'yil':{\n",
    "    'max':'2023',\n",
    "    'min': '2000'\n",
    "},\n",
    "'price':{\n",
    "    'min':'1',\n",
    "    'max':'10000000'\n",
    "}\n",
    "\n",
    "}"
   ]
  },
  {
   "cell_type": "code",
   "execution_count": 143,
   "id": "05309d2d",
   "metadata": {},
   "outputs": [
    {
     "data": {
      "text/plain": [
       "'https://www.sahibinden.com/audi-a3-a3-hatchback/istanbul/manuel?a5min=2000&a5max=2023price_min=1&price_max=10000000'"
      ]
     },
     "execution_count": 143,
     "metadata": {},
     "output_type": "execute_result"
    }
   ],
   "source": [
    "root = 'https://www.sahibinden.com/'\n",
    "modelURL = (root + dict['marka'] + '-' + dict['model']).replace(' ','-')\n",
    "yilquery = 'a5min=' + dict['yil']['min'] + '&' +  'a5max=' + dict['yil']['max']\n",
    "pricequery= 'price_min=' + dict['price']['min'] + '&' + 'price_max=' + dict['price']['max']\n",
    "queries = '?'+yilquery+pricequery\n",
    "pages = modelURL + '/'+dict['il']+'/'+dict['vites']\n",
    "URL = pages + queries\n",
    "URL"
   ]
  },
  {
   "cell_type": "code",
   "execution_count": 144,
   "id": "8a6dc4af",
   "metadata": {},
   "outputs": [
    {
     "name": "stdout",
     "output_type": "stream",
     "text": [
      "response: 200\n"
     ]
    }
   ],
   "source": [
    "r = requests.get(URL, headers=headers)\n",
    "soup = BeautifulSoup(r.text, 'html.parser')\n",
    "print('response: ' + str(r.status_code))\n"
   ]
  },
  {
   "cell_type": "code",
   "execution_count": 147,
   "id": "627b4cb5",
   "metadata": {},
   "outputs": [
    {
     "name": "stdout",
     "output_type": "stream",
     "text": [
      "3\n"
     ]
    }
   ],
   "source": [
    "sayfa_sayisi = int(soup.find('div',{'class':'mtmdef pageNavigator pvdef phdef'}).get_text().split()[1])\n",
    "print(sayfa_sayisi)"
   ]
  },
  {
   "cell_type": "code",
   "execution_count": 148,
   "id": "f2663ffe",
   "metadata": {},
   "outputs": [
    {
     "name": "stdout",
     "output_type": "stream",
     "text": [
      "200 https://www.sahibinden.com/audi-a3-a3-hatchback/istanbul/manuel?a5min=2000&a5max=2023price_min=1&price_max=10000000&pagingOffset=0\n",
      "200 https://www.sahibinden.com/audi-a3-a3-hatchback/istanbul/manuel?a5min=2000&a5max=2023price_min=1&price_max=10000000&pagingOffset=20\n",
      "200 https://www.sahibinden.com/audi-a3-a3-hatchback/istanbul/manuel?a5min=2000&a5max=2023price_min=1&price_max=10000000&pagingOffset=40\n"
     ]
    }
   ],
   "source": [
    "headers = {\n",
    "        'User-Agent':\n",
    "        'Mozilla/5.0 (Macintosh; Intel Mac OS X 10_10_1)' +\n",
    "        'AppleWebKit/537.36 (KHTML, like Gecko)' +\n",
    "        'Chrome/39.0.2171.95 Safari/537.36',\n",
    "        'Upgrade-Insecure-Requests': '1'}\n",
    "\n",
    "ilanlar = []\n",
    "for offset in range(0, sayfa_sayisi*20, 20):\n",
    "  try:\n",
    "    offset = '&pagingOffset='+str(offset)\n",
    "    URL_ = URL + offset\n",
    "    # start scraping the page\n",
    "    r = requests.get(URL_, headers=headers)\n",
    "    print(r.status_code, URL_)\n",
    "    soup = BeautifulSoup(r.text, 'html.parser')\n",
    "    for i in soup.find_all('tr', {'class':'searchResultsItem'}):\n",
    "        temp=[]\n",
    "        if i.find('td', {'class':'searchResultsLocationValue'}):\n",
    "            temp.append(i.find('td', {'class':'searchResultsLocationValue'}).get_text(separator = ' ').replace('\\n','').replace('\\r', '').replace('\\t', '').strip())\n",
    "        if i.find('td',{'class':'searchResultsTagAttributeValue'}):\n",
    "            temp.append(i.find('td', {'class':'searchResultsTagAttributeValue'}).get_text(separator = ' ').replace('\\n','').replace('\\r', '').replace('\\t', '').strip())\n",
    "        if i.find('td',{'class':'searchResultsAttributeValue'}):\n",
    "            for j in i.find_all('td',{'class':'searchResultsAttributeValue'}):\n",
    "                temp.append(j.get_text(separator = ' ').replace('\\n','').replace('\\r', '').replace('\\t', '').strip())\n",
    "        if len(temp) > 0:\n",
    "            ilanlar.append(temp)\n",
    "  except Exception as e:\n",
    "    print(\"Exception occured: \" + str(e))\n",
    "    continue"
   ]
  },
  {
   "cell_type": "code",
   "execution_count": 149,
   "id": "b5b2a273",
   "metadata": {},
   "outputs": [
    {
     "data": {
      "text/plain": [
       "44"
      ]
     },
     "execution_count": 149,
     "metadata": {},
     "output_type": "execute_result"
    }
   ],
   "source": [
    "len(ilanlar)"
   ]
  },
  {
   "cell_type": "code",
   "execution_count": 150,
   "id": "13bc4d22",
   "metadata": {},
   "outputs": [
    {
     "data": {
      "text/plain": [
       "[['Tuzla Tersaneler', 'A3 Hatchback 1.6', '2004', '235.000', 'Kırmızı'],\n",
       " ['Bağcılar', 'A3 Hatchback 1.6', '2006', '320.000', 'Siyah'],\n",
       " ['Sultanbeyli Turgutreis', 'A3 Hatchback 1.4 TFSI', '2009', '270.000', 'Gri'],\n",
       " ['Güngören', 'A3 Hatchback 1.6 FSI', '2007', '202.000', 'Siyah'],\n",
       " ['Büyükçekmece', 'A3 Hatchback 1.6', '2004', '333.500', 'Kırmızı'],\n",
       " ['Beylikdüzü Kavaklı', 'A3 Hatchback 1.4 TFSI', '2009', '270.000', 'Gri'],\n",
       " ['Sultangazi Cebeci', 'A3 Hatchback 1.6', '2001', '266.000', 'Siyah'],\n",
       " ['Kağıthane', 'A3 Hatchback 1.4 TFSI', '2008', '86.000', 'Siyah'],\n",
       " ['Esenyurt', 'A3 Hatchback 1.6', '2004', '373.000', 'Gri'],\n",
       " ['Kartal Yakacık', 'A3 Hatchback 1.6', '2006', '271.000', 'Siyah'],\n",
       " ['Sultanbeyli Turgutreis', 'A3 Hatchback 1.6', '2004', '195.000', 'Mavi'],\n",
       " ['Ataşehir Barbaros', 'A3 Hatchback 1.6 FSI', '2006', '266.500', 'Beyaz'],\n",
       " ['Üsküdar Bulgurlu', 'A3 Hatchback 1.6 FSI', '2005', '360.000', 'Gri'],\n",
       " ['Kadıköy Sahrayıcedit', 'A3 Hatchback 1.6', '2005', '390.000', 'Füme'],\n",
       " ['Eyüpsultan Çırçır', 'A3 Hatchback 1.8', '1998', '335.000', 'Mavi'],\n",
       " ['Pendik Çamçeşme', 'A3 Hatchback 1.6', '2005', '186.369', 'Gümüş Gri'],\n",
       " ['Esenyurt', 'A3 Hatchback 1.6 FSI', '2007', '106.215', 'Siyah'],\n",
       " ['Maltepe Zümrütevler', 'A3 Hatchback 1.4 TFSI', '2010', '233.000', 'Siyah'],\n",
       " ['Bağcılar', 'A3 Hatchback 1.9 TDI', '2006', '293.000', 'Kırmızı'],\n",
       " ['Kağıthane Seyrantepe', 'A3 Hatchback 1.9 TDI', '1996', '356.000', 'Sarı'],\n",
       " ['Arnavutköy Hadımköy(Boyalık)',\n",
       "  'A3 Hatchback 1.6',\n",
       "  '2004',\n",
       "  '220.000',\n",
       "  'Mavi'],\n",
       " ['Sultangazi Merkez', 'A3 Hatchback 1.6', '2009', '140.000', 'Siyah'],\n",
       " ['Sarıyer İstinye', 'A3 Hatchback 1.4 TFSI', '2008', '165.000', 'Siyah'],\n",
       " ['Bahçelievler Merkez', 'A3 Hatchback 1.4 TFSI', '2009', '225.000', 'Gri'],\n",
       " ['Ümraniye Şerifali', 'A3 Hatchback 1.6 FSI', '2006', '220.000', 'Siyah'],\n",
       " ['Kartal Orhantepe', 'A3 Hatchback 1.6', '2011', '195.000', 'Beyaz'],\n",
       " ['Üsküdar Bağlarbaşı', 'A3 Hatchback 1.6', '2001', '245.000', 'Kırmızı'],\n",
       " ['Avcılar Ambarlı', 'A3 Hatchback 1.4 TFSI', '2009', '160.000', 'Siyah'],\n",
       " ['Beşiktaş Levazım', 'A3 Hatchback 1.4 TFSI', '2008', '207.500', 'Siyah'],\n",
       " ['Sultangazi Zübeydehanım',\n",
       "  'A3 Hatchback 1.6 FSI',\n",
       "  '2006',\n",
       "  '180.000',\n",
       "  'Kırmızı'],\n",
       " ['Küçükçekmece Cennet', 'A3 Hatchback 1.6', '2004', '287.000', 'Siyah'],\n",
       " ['Büyükçekmece', 'A3 Hatchback 1.6 FSI', '2006', '222.000', 'Siyah'],\n",
       " ['Çekmeköy Taşdelen', 'A3 Hatchback 2.0 TDI', '2009', '253.000', 'Gri'],\n",
       " ['Ataşehir İçerenköy', 'A3 Hatchback 1.4 TFSI', '2010', '136.000', 'Gri'],\n",
       " ['Eyüpsultan Rami', 'A3 Hatchback 1.6', '2011', '78.000', 'Siyah'],\n",
       " ['Beykoz Anadoluhisarı', 'A3 Hatchback 1.6 FSI', '2006', '340.000', 'Siyah'],\n",
       " ['Bakırköy Ataköy', 'A3 Hatchback 1.4 TFSI', '2012', '91.000', 'Beyaz'],\n",
       " ['Sultangazi Merkez', 'A3 Hatchback 1.4 TFSI', '2008', '165.000', 'Siyah'],\n",
       " ['Tuzla Tersaneler', 'A3 Hatchback 1.4 TFSI', '2008', '299.999', 'Beyaz'],\n",
       " ['Beylikdüzü Kavaklı', 'A3 Hatchback 1.6 FSI', '2006', '233.000', 'Kırmızı'],\n",
       " ['Zeytinburnu Maltepe', 'A3 Hatchback 1.6', '2004', '265.000', 'Kırmızı'],\n",
       " ['Beyoğlu Halıcıoğlu', 'A3 Hatchback 1.8 T', '2001', '320.000', 'Gri'],\n",
       " ['Küçükçekmece Sefaköy', 'A3 Hatchback 1.9 TDI', '2001', '212.000', 'Gri'],\n",
       " ['Ümraniye Merkez', 'A3 Hatchback 1.4 TFSI', '2008', '165.000', 'Siyah']]"
      ]
     },
     "execution_count": 150,
     "metadata": {},
     "output_type": "execute_result"
    }
   ],
   "source": [
    "ilanlar"
   ]
  },
  {
   "cell_type": "code",
   "execution_count": null,
   "id": "277201ae",
   "metadata": {},
   "outputs": [],
   "source": []
  }
 ],
 "metadata": {
  "kernelspec": {
   "display_name": "Python 3 (ipykernel)",
   "language": "python",
   "name": "python3"
  },
  "language_info": {
   "codemirror_mode": {
    "name": "ipython",
    "version": 3
   },
   "file_extension": ".py",
   "mimetype": "text/x-python",
   "name": "python",
   "nbconvert_exporter": "python",
   "pygments_lexer": "ipython3",
   "version": "3.10.7"
  }
 },
 "nbformat": 4,
 "nbformat_minor": 5
}
